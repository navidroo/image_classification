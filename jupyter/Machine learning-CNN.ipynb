{
 "cells": [
  {
   "cell_type": "code",
   "execution_count": 1,
   "metadata": {
    "scrolled": true
   },
   "outputs": [
    {
     "name": "stderr",
     "output_type": "stream",
     "text": [
      "Using TensorFlow backend.\n"
     ]
    }
   ],
   "source": [
    "import numpy as np\n",
    "import pandas as pd\n",
    "%matplotlib inline\n",
    "import matplotlib as mpl\n",
    "import matplotlib.pyplot as plt\n",
    "import h5py\n",
    "# from  flame_classification.flame_classification import FCA\n",
    "from tensorflow import keras\n",
    "from keras.callbacks import EarlyStopping, ModelCheckpoint\n",
    "from keras.models import load_model\n",
    "import tensorflow as tf\n",
    "import random\n",
    "import sklearn.metrics as metrics"
   ]
  },
  {
   "cell_type": "code",
   "execution_count": 2,
   "metadata": {},
   "outputs": [],
   "source": [
    "from tensorflow.keras.layers import Conv2D, MaxPooling2D, BatchNormalization\n",
    "from tensorflow.keras.layers import Dropout, Flatten, Input, Dense"
   ]
  },
  {
   "cell_type": "code",
   "execution_count": 3,
   "metadata": {},
   "outputs": [],
   "source": [
    "call_backs = [tf.keras.callbacks.EarlyStopping(monitor='val_loss',\n",
    "                                               mode='min',patience=10),\n",
    "             tf.keras.callbacks.ModelCheckpoint('max_accuracy_final1.h5',\n",
    "                                                save_best_only=True,\n",
    "                                                monitor='val_accuracy',\n",
    "                                                mode='max')]"
   ]
  },
  {
   "cell_type": "code",
   "execution_count": 4,
   "metadata": {},
   "outputs": [],
   "source": [
    "def create_model():\n",
    "    def add_conv_block(model, num_filters):\n",
    "        model.add(Conv2D(num_filters, 5, activation='relu'))\n",
    "        model.add(BatchNormalization())\n",
    "        model.add(Conv2D(num_filters, 5, activation='relu'))\n",
    "        model.add(MaxPooling2D(pool_size=2))\n",
    "        return model\n",
    "\n",
    "    model = tf.keras.models.Sequential()\n",
    "    model.add(Input(shape=(74, 74, 1)))\n",
    "    model = add_conv_block(model, 32)\n",
    "    model = add_conv_block(model, 64)\n",
    "    model = add_conv_block(model, 128)\n",
    "    model.add(Flatten())\n",
    "    model.add(Dropout(0.3))\n",
    "    model.add(Dense(3, activation='softmax'))\n",
    "\n",
    "    model.compile(loss='categorical_crossentropy',\n",
    "                  optimizer='adam',\n",
    "                  metrics=['accuracy'])\n",
    "    return model"
   ]
  },
  {
   "cell_type": "code",
   "execution_count": 5,
   "metadata": {},
   "outputs": [
    {
     "name": "stdout",
     "output_type": "stream",
     "text": [
      "Model: \"sequential\"\n",
      "_________________________________________________________________\n",
      "Layer (type)                 Output Shape              Param #   \n",
      "=================================================================\n",
      "conv2d (Conv2D)              (None, 70, 70, 32)        832       \n",
      "_________________________________________________________________\n",
      "batch_normalization (BatchNo (None, 70, 70, 32)        128       \n",
      "_________________________________________________________________\n",
      "conv2d_1 (Conv2D)            (None, 66, 66, 32)        25632     \n",
      "_________________________________________________________________\n",
      "max_pooling2d (MaxPooling2D) (None, 33, 33, 32)        0         \n",
      "_________________________________________________________________\n",
      "conv2d_2 (Conv2D)            (None, 29, 29, 64)        51264     \n",
      "_________________________________________________________________\n",
      "batch_normalization_1 (Batch (None, 29, 29, 64)        256       \n",
      "_________________________________________________________________\n",
      "conv2d_3 (Conv2D)            (None, 25, 25, 64)        102464    \n",
      "_________________________________________________________________\n",
      "max_pooling2d_1 (MaxPooling2 (None, 12, 12, 64)        0         \n",
      "_________________________________________________________________\n",
      "conv2d_4 (Conv2D)            (None, 8, 8, 128)         204928    \n",
      "_________________________________________________________________\n",
      "batch_normalization_2 (Batch (None, 8, 8, 128)         512       \n",
      "_________________________________________________________________\n",
      "conv2d_5 (Conv2D)            (None, 4, 4, 128)         409728    \n",
      "_________________________________________________________________\n",
      "max_pooling2d_2 (MaxPooling2 (None, 2, 2, 128)         0         \n",
      "_________________________________________________________________\n",
      "flatten (Flatten)            (None, 512)               0         \n",
      "_________________________________________________________________\n",
      "dropout (Dropout)            (None, 512)               0         \n",
      "_________________________________________________________________\n",
      "dense (Dense)                (None, 3)                 1539      \n",
      "=================================================================\n",
      "Total params: 797,283\n",
      "Trainable params: 796,835\n",
      "Non-trainable params: 448\n",
      "_________________________________________________________________\n"
     ]
    }
   ],
   "source": [
    "model = create_model()\n",
    "model.summary()"
   ]
  },
  {
   "cell_type": "markdown",
   "metadata": {},
   "source": [
    "### Open flame type"
   ]
  },
  {
   "cell_type": "code",
   "execution_count": 6,
   "metadata": {},
   "outputs": [
    {
     "name": "stdout",
     "output_type": "stream",
     "text": [
      "Keys: <KeysViewHDF5 ['Y_data']>\n"
     ]
    }
   ],
   "source": [
    "### flame type data set\n",
    "with h5py.File('../flame_classification/data//y_flames_classification.h5',\n",
    "               \"r\") as f:\n",
    "    # List all groups\n",
    "    print(\"Keys: %s\" % f.keys())\n",
    "    a_group_key = list(f.keys())[0]\n",
    "\n",
    "    # Get the data\n",
    "    data_y = list(f[a_group_key])"
   ]
  },
  {
   "cell_type": "code",
   "execution_count": 7,
   "metadata": {},
   "outputs": [
    {
     "data": {
      "text/plain": [
       "0"
      ]
     },
     "execution_count": 7,
     "metadata": {},
     "output_type": "execute_result"
    }
   ],
   "source": [
    "data_y.pop(0)"
   ]
  },
  {
   "cell_type": "markdown",
   "metadata": {},
   "source": [
    "#### Open Images"
   ]
  },
  {
   "cell_type": "code",
   "execution_count": 8,
   "metadata": {},
   "outputs": [
    {
     "name": "stdout",
     "output_type": "stream",
     "text": [
      "Keys: <KeysViewHDF5 ['X_data']>\n"
     ]
    }
   ],
   "source": [
    "### image data set\n",
    "with h5py.File('../flame_classification/data//x_flames_classification.h5', \"r\") as f:\n",
    "    # List all groups\n",
    "    print(\"Keys: %s\" % f.keys())\n",
    "    a_group_key = list(f.keys())[0]\n",
    "\n",
    "    # Get the data\n",
    "    data_x = list(f[a_group_key])"
   ]
  },
  {
   "cell_type": "code",
   "execution_count": 9,
   "metadata": {},
   "outputs": [
    {
     "data": {
      "text/plain": [
       "array([[0., 0., 0., ..., 0., 0., 0.],\n",
       "       [0., 0., 0., ..., 0., 0., 0.],\n",
       "       [0., 0., 0., ..., 0., 0., 0.],\n",
       "       ...,\n",
       "       [0., 0., 0., ..., 0., 0., 0.],\n",
       "       [0., 0., 0., ..., 0., 0., 0.],\n",
       "       [0., 0., 0., ..., 0., 0., 0.]])"
      ]
     },
     "execution_count": 9,
     "metadata": {},
     "output_type": "execute_result"
    }
   ],
   "source": [
    "data_x.pop(0)"
   ]
  },
  {
   "cell_type": "code",
   "execution_count": 10,
   "metadata": {},
   "outputs": [],
   "source": [
    "# plt.imshow(data_x[-1])"
   ]
  },
  {
   "cell_type": "markdown",
   "metadata": {},
   "source": [
    "#### Convert images to gray scale"
   ]
  },
  {
   "cell_type": "code",
   "execution_count": 11,
   "metadata": {},
   "outputs": [],
   "source": [
    "x_data_gray = [((arr - arr.min()) * (1 / (arr.max() - arr.min())))\n",
    "               for arr in data_x]"
   ]
  },
  {
   "cell_type": "code",
   "execution_count": 12,
   "metadata": {},
   "outputs": [
    {
     "data": {
      "text/plain": [
       "(74, 74)"
      ]
     },
     "execution_count": 12,
     "metadata": {},
     "output_type": "execute_result"
    }
   ],
   "source": [
    "x_data_gray[1].shape"
   ]
  },
  {
   "cell_type": "markdown",
   "metadata": {},
   "source": [
    "#### Distribution of flame types"
   ]
  },
  {
   "cell_type": "code",
   "execution_count": 13,
   "metadata": {},
   "outputs": [
    {
     "data": {
      "image/png": "[encoded data removed]",
      "text/plain": [
       "<Figure size 400x400 with 1 Axes>"
      ]
     },
     "metadata": {},
     "output_type": "display_data"
    }
   ],
   "source": [
    "labels = ['Weak flame', 'FREI', 'Normal flame']\n",
    "occurance_perc = [\n",
    "    sum([1 for i in data_y if i == 0]) / len(data_y),\n",
    "    sum([1 for i in data_y if i == 1]) / len(data_y),\n",
    "    sum([1 for i in data_y if i == 2]) / len(data_y)\n",
    "]\n",
    "plt.figure(figsize=(4, 4), dpi=100)\n",
    "plt.pie(\n",
    "    occurance_perc,\n",
    "    labels=labels,\n",
    "    autopct='%1.0f%%',\n",
    "    pctdistance=0.5,\n",
    "    labeldistance=1.1,\n",
    ");"
   ]
  },
  {
   "cell_type": "markdown",
   "metadata": {},
   "source": [
    "#### Shuffling the dataset"
   ]
  },
  {
   "cell_type": "code",
   "execution_count": 14,
   "metadata": {},
   "outputs": [],
   "source": [
    "c = list(zip(x_data_gray, data_y))\n",
    "\n",
    "random.shuffle(c)\n",
    "\n",
    "(x_data_gray, data_y) = zip(*c)\n",
    "\n",
    "data_y = np.asarray(data_y).astype('uint8')"
   ]
  },
  {
   "cell_type": "code",
   "execution_count": 15,
   "metadata": {},
   "outputs": [],
   "source": [
    "x_data_gray = np.asarray(x_data_gray)"
   ]
  },
  {
   "cell_type": "code",
   "execution_count": 16,
   "metadata": {},
   "outputs": [],
   "source": [
    "x_data_gray = x_data_gray.reshape(5910, 74, 74,1)"
   ]
  },
  {
   "cell_type": "code",
   "execution_count": 17,
   "metadata": {},
   "outputs": [],
   "source": [
    "class_names = ['Weak flame', 'FREI', 'Normal Flame']"
   ]
  },
  {
   "cell_type": "code",
   "execution_count": 18,
   "metadata": {},
   "outputs": [],
   "source": [
    "data_y = tf.keras.utils.to_categorical(data_y)"
   ]
  },
  {
   "cell_type": "code",
   "execution_count": 19,
   "metadata": {},
   "outputs": [],
   "source": [
    "mm = int(len(x_data_gray) * 0.8)\n",
    "nn = int(len(x_data_gray) * 0.9)"
   ]
  },
  {
   "cell_type": "code",
   "execution_count": 20,
   "metadata": {},
   "outputs": [],
   "source": [
    "X_train = x_data_gray[:mm]\n",
    "X_test = x_data_gray[mm:nn]\n",
    "X_valid = x_data_gray[nn:]\n",
    "y_train = data_y[:mm]\n",
    "y_test = data_y[mm:nn]\n",
    "y_valid = data_y[nn:]"
   ]
  },
  {
   "cell_type": "code",
   "execution_count": 21,
   "metadata": {},
   "outputs": [],
   "source": [
    "numb = 42\n",
    "tf.random.set_seed(numb)"
   ]
  },
  {
   "cell_type": "code",
   "execution_count": 22,
   "metadata": {},
   "outputs": [
    {
     "name": "stdout",
     "output_type": "stream",
     "text": [
      "Train on 4728 samples, validate on 591 samples\n",
      "Epoch 1/100\n",
      "4728/4728 [==============================] - 97s 20ms/sample - loss: 0.6915 - accuracy: 0.7974 - val_loss: 2.4473 - val_accuracy: 0.4349\n",
      "Epoch 2/100\n",
      "4728/4728 [==============================] - 94s 20ms/sample - loss: 0.2063 - accuracy: 0.9264 - val_loss: 1.4703 - val_accuracy: 0.5838\n",
      "Epoch 3/100\n",
      "4728/4728 [==============================] - 93s 20ms/sample - loss: 0.2093 - accuracy: 0.9382 - val_loss: 1.2465 - val_accuracy: 0.6142\n",
      "Epoch 4/100\n",
      "4728/4728 [==============================] - 94s 20ms/sample - loss: 0.1223 - accuracy: 0.9636 - val_loss: 0.2493 - val_accuracy: 0.9103\n",
      "Epoch 5/100\n",
      "4728/4728 [==============================] - 92s 20ms/sample - loss: 0.1072 - accuracy: 0.9657 - val_loss: 0.0914 - val_accuracy: 0.9763\n",
      "Epoch 6/100\n",
      "4728/4728 [==============================] - 92s 20ms/sample - loss: 0.0951 - accuracy: 0.9691 - val_loss: 0.0762 - val_accuracy: 0.9729\n",
      "Epoch 7/100\n",
      "4728/4728 [==============================] - 93s 20ms/sample - loss: 0.0845 - accuracy: 0.9757 - val_loss: 0.0223 - val_accuracy: 0.9932\n",
      "Epoch 8/100\n",
      "4728/4728 [==============================] - 93s 20ms/sample - loss: 0.0629 - accuracy: 0.9780 - val_loss: 0.0340 - val_accuracy: 0.9882\n",
      "Epoch 9/100\n",
      "4728/4728 [==============================] - 95s 20ms/sample - loss: 0.0693 - accuracy: 0.9780 - val_loss: 0.0254 - val_accuracy: 0.9949\n",
      "Epoch 10/100\n",
      "4728/4728 [==============================] - 93s 20ms/sample - loss: 0.0410 - accuracy: 0.9867 - val_loss: 0.0417 - val_accuracy: 0.9898\n",
      "Epoch 11/100\n",
      "4728/4728 [==============================] - 92s 19ms/sample - loss: 0.0794 - accuracy: 0.9765 - val_loss: 0.1112 - val_accuracy: 0.9645\n",
      "Epoch 12/100\n",
      "4728/4728 [==============================] - 92s 19ms/sample - loss: 0.0576 - accuracy: 0.9799 - val_loss: 0.0402 - val_accuracy: 0.9831\n",
      "Epoch 13/100\n",
      "4728/4728 [==============================] - 94s 20ms/sample - loss: 0.0444 - accuracy: 0.9865 - val_loss: 1.1146 - val_accuracy: 0.8426\n",
      "Epoch 14/100\n",
      "4728/4728 [==============================] - 94s 20ms/sample - loss: 0.0972 - accuracy: 0.9717 - val_loss: 0.0558 - val_accuracy: 0.9898\n",
      "Epoch 15/100\n",
      "4728/4728 [==============================] - 94s 20ms/sample - loss: 0.0451 - accuracy: 0.9854 - val_loss: 0.0218 - val_accuracy: 0.9949\n",
      "Epoch 16/100\n",
      "4728/4728 [==============================] - 94s 20ms/sample - loss: 0.0451 - accuracy: 0.9865 - val_loss: 0.0341 - val_accuracy: 0.9915\n",
      "Epoch 17/100\n",
      "4728/4728 [==============================] - 94s 20ms/sample - loss: 0.0410 - accuracy: 0.9860 - val_loss: 0.0149 - val_accuracy: 0.9966\n",
      "Epoch 18/100\n",
      "4728/4728 [==============================] - 94s 20ms/sample - loss: 0.0340 - accuracy: 0.9901 - val_loss: 0.0721 - val_accuracy: 0.9848\n",
      "Epoch 19/100\n",
      "4728/4728 [==============================] - 94s 20ms/sample - loss: 0.0652 - accuracy: 0.9808 - val_loss: 0.0360 - val_accuracy: 0.9865\n",
      "Epoch 20/100\n",
      "4728/4728 [==============================] - 94s 20ms/sample - loss: 0.0570 - accuracy: 0.9833 - val_loss: 0.0200 - val_accuracy: 0.9966\n",
      "Epoch 21/100\n",
      "4728/4728 [==============================] - 94s 20ms/sample - loss: 0.0385 - accuracy: 0.9882 - val_loss: 0.0237 - val_accuracy: 0.9966\n",
      "Epoch 22/100\n",
      "4728/4728 [==============================] - 94s 20ms/sample - loss: 0.0645 - accuracy: 0.9846 - val_loss: 0.0270 - val_accuracy: 0.9966\n",
      "Epoch 23/100\n",
      "4728/4728 [==============================] - 93s 20ms/sample - loss: 0.0349 - accuracy: 0.9894 - val_loss: 0.0629 - val_accuracy: 0.9848\n",
      "Epoch 24/100\n",
      "4728/4728 [==============================] - 95s 20ms/sample - loss: 0.0616 - accuracy: 0.9814 - val_loss: 0.0458 - val_accuracy: 0.9831\n",
      "Epoch 25/100\n",
      "4728/4728 [==============================] - 97s 20ms/sample - loss: 0.1150 - accuracy: 0.9772 - val_loss: 0.0241 - val_accuracy: 0.9949\n",
      "Epoch 26/100\n",
      "4728/4728 [==============================] - 96s 20ms/sample - loss: 0.0384 - accuracy: 0.9873 - val_loss: 0.0240 - val_accuracy: 0.9949\n",
      "Epoch 27/100\n",
      "4728/4728 [==============================] - 95s 20ms/sample - loss: 0.0325 - accuracy: 0.9918 - val_loss: 0.0196 - val_accuracy: 0.9949\n"
     ]
    }
   ],
   "source": [
    "model_history = model.fit(X_train,\n",
    "                          y_train,\n",
    "                          epochs=100,\n",
    "                          validation_data=(X_valid, y_valid),\n",
    "                          callbacks=call_backs,\n",
    "                          use_multiprocessing = True)"
   ]
  },
  {
   "cell_type": "code",
   "execution_count": 34,
   "metadata": {},
   "outputs": [
    {
     "data": {
      "image/png": "[encoded data removed]",
      "text/plain": [
       "<Figure size 576x360 with 1 Axes>"
      ]
     },
     "metadata": {
      "needs_background": "light"
     },
     "output_type": "display_data"
    }
   ],
   "source": [
    "df = pd.DataFrame(model_history.history)\n",
    "df.plot(figsize=(8, 5))\n",
    "plt.grid(True)\n",
    "plt.gca().set_ylim(0, 2)\n",
    "plt.xlabel('Epoch')\n",
    "plt.show()"
   ]
  },
  {
   "cell_type": "code",
   "execution_count": 24,
   "metadata": {},
   "outputs": [],
   "source": [
    "y_pred = model.predict_classes(X_test)"
   ]
  },
  {
   "cell_type": "code",
   "execution_count": 25,
   "metadata": {},
   "outputs": [],
   "source": [
    "y_pred=tf.keras.utils.to_categorical(y_pred)"
   ]
  },
  {
   "cell_type": "code",
   "execution_count": 26,
   "metadata": {},
   "outputs": [
    {
     "data": {
      "text/plain": [
       "array([[0., 0., 1.],\n",
       "       [0., 0., 1.],\n",
       "       [1., 0., 0.],\n",
       "       ...,\n",
       "       [0., 0., 1.],\n",
       "       [0., 0., 1.],\n",
       "       [1., 0., 0.]], dtype=float32)"
      ]
     },
     "execution_count": 26,
     "metadata": {},
     "output_type": "execute_result"
    }
   ],
   "source": [
    "y_pred"
   ]
  },
  {
   "cell_type": "code",
   "execution_count": 27,
   "metadata": {},
   "outputs": [
    {
     "data": {
      "text/plain": [
       "array([[0., 0., 1.],\n",
       "       [0., 0., 1.],\n",
       "       [1., 0., 0.],\n",
       "       ...,\n",
       "       [0., 0., 1.],\n",
       "       [0., 0., 1.],\n",
       "       [1., 0., 0.]], dtype=float32)"
      ]
     },
     "execution_count": 27,
     "metadata": {},
     "output_type": "execute_result"
    }
   ],
   "source": [
    "y_test"
   ]
  },
  {
   "cell_type": "code",
   "execution_count": 28,
   "metadata": {},
   "outputs": [
    {
     "data": {
      "text/plain": [
       "4"
      ]
     },
     "execution_count": 28,
     "metadata": {},
     "output_type": "execute_result"
    }
   ],
   "source": [
    "sum([1 for i in range(len(y_test)) if sum(abs(y_pred - y_test)[i]) != 0])"
   ]
  },
  {
   "cell_type": "code",
   "execution_count": 29,
   "metadata": {},
   "outputs": [],
   "source": [
    "perc = (len(y_test) -sum([1 for i in range(len(y_test)) if sum(abs(y_pred - y_test)[i]) != 0]))/len(y_test)*100"
   ]
  },
  {
   "cell_type": "code",
   "execution_count": 30,
   "metadata": {},
   "outputs": [
    {
     "name": "stdout",
     "output_type": "stream",
     "text": [
      "99.323% is the accuracy for the test dataset\n"
     ]
    }
   ],
   "source": [
    "print('{}% is the accuracy for the test dataset'.format(round(perc, 3)))"
   ]
  },
  {
   "cell_type": "code",
   "execution_count": 31,
   "metadata": {},
   "outputs": [
    {
     "data": {
      "text/plain": [
       "591"
      ]
     },
     "execution_count": 31,
     "metadata": {},
     "output_type": "execute_result"
    }
   ],
   "source": [
    "len(y_test)"
   ]
  },
  {
   "cell_type": "code",
   "execution_count": 32,
   "metadata": {},
   "outputs": [
    {
     "data": {
      "image/png": "[encoded data removed]",
      "text/plain": [
       "<Figure size 3000x2000 with 1 Axes>"
      ]
     },
     "metadata": {},
     "output_type": "display_data"
    }
   ],
   "source": [
    "plt.figure(dpi=500)\n",
    "plt.imshow(X_test[0].reshape(74,74),interpolation='gaussian');\n",
    "plt.tick_params(left=False, bottom = False,labelleft=False,labelbottom=False);"
   ]
  },
  {
   "cell_type": "code",
   "execution_count": null,
   "metadata": {},
   "outputs": [],
   "source": []
  }
 ],
 "metadata": {
  "kernelspec": {
   "display_name": "Python 3",
   "language": "python",
   "name": "python3"
  },
  "language_info": {
   "codemirror_mode": {
    "name": "ipython",
    "version": 3
   },
   "file_extension": ".py",
   "mimetype": "text/x-python",
   "name": "python",
   "nbconvert_exporter": "python",
   "pygments_lexer": "ipython3",
   "version": "3.7.9"
  },
  "varInspector": {
   "cols": {
    "lenName": 16,
    "lenType": 16,
    "lenVar": 40
   },
   "kernels_config": {
    "python": {
     "delete_cmd_postfix": "",
     "delete_cmd_prefix": "del ",
     "library": "var_list.py",
     "varRefreshCmd": "print(var_dic_list())"
    },
    "r": {
     "delete_cmd_postfix": ") ",
     "delete_cmd_prefix": "rm(",
     "library": "var_list.r",
     "varRefreshCmd": "cat(var_dic_list()) "
    }
   },
   "types_to_exclude": [
    "module",
    "function",
    "builtin_function_or_method",
    "instance",
    "_Feature"
   ],
   "window_display": false
  }
 },
 "nbformat": 4,
 "nbformat_minor": 4
}
