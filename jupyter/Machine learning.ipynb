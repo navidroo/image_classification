{
 "cells": [
  {
   "cell_type": "code",
   "execution_count": 1,
   "metadata": {
    "scrolled": true
   },
   "outputs": [
    {
     "name": "stderr",
     "output_type": "stream",
     "text": [
      "Using TensorFlow backend.\n"
     ]
    }
   ],
   "source": [
    "import numpy as np\n",
    "import pandas as pd\n",
    "%matplotlib inline\n",
    "import matplotlib as mpl\n",
    "import matplotlib.pyplot as plt\n",
    "import h5py\n",
    "# from  flame_classification.flame_classification import FCA\n",
    "from tensorflow import keras\n",
    "from keras.callbacks import EarlyStopping, ModelCheckpoint\n",
    "from keras.models import load_model\n",
    "import tensorflow as tf\n",
    "import random"
   ]
  },
  {
   "cell_type": "markdown",
   "metadata": {},
   "source": [
    "#### Open flame type"
   ]
  },
  {
   "cell_type": "code",
   "execution_count": 2,
   "metadata": {},
   "outputs": [
    {
     "name": "stdout",
     "output_type": "stream",
     "text": [
      "Keys: <KeysViewHDF5 ['Y_data']>\n"
     ]
    }
   ],
   "source": [
    "### flame type data set\n",
    "with h5py.File('../flame_classification/data//y_flames_classification.h5', \"r\") as f:\n",
    "    # List all groups\n",
    "    print(\"Keys: %s\" % f.keys())\n",
    "    a_group_key = list(f.keys())[0]\n",
    "\n",
    "    # Get the data\n",
    "    data_y = list(f[a_group_key])"
   ]
  },
  {
   "cell_type": "code",
   "execution_count": 3,
   "metadata": {},
   "outputs": [
    {
     "data": {
      "text/plain": [
       "0"
      ]
     },
     "execution_count": 3,
     "metadata": {},
     "output_type": "execute_result"
    }
   ],
   "source": [
    "data_y.pop(0)"
   ]
  },
  {
   "cell_type": "markdown",
   "metadata": {},
   "source": [
    "#### Open Images"
   ]
  },
  {
   "cell_type": "code",
   "execution_count": 4,
   "metadata": {},
   "outputs": [
    {
     "name": "stdout",
     "output_type": "stream",
     "text": [
      "Keys: <KeysViewHDF5 ['X_data']>\n"
     ]
    }
   ],
   "source": [
    "### image data set\n",
    "with h5py.File('../flame_classification/data//x_flames_classification.h5', \"r\") as f:\n",
    "    # List all groups\n",
    "    print(\"Keys: %s\" % f.keys())\n",
    "    a_group_key = list(f.keys())[0]\n",
    "\n",
    "    # Get the data\n",
    "    data_x = list(f[a_group_key])"
   ]
  },
  {
   "cell_type": "code",
   "execution_count": 5,
   "metadata": {},
   "outputs": [
    {
     "data": {
      "text/plain": [
       "array([[0., 0., 0., ..., 0., 0., 0.],\n",
       "       [0., 0., 0., ..., 0., 0., 0.],\n",
       "       [0., 0., 0., ..., 0., 0., 0.],\n",
       "       ...,\n",
       "       [0., 0., 0., ..., 0., 0., 0.],\n",
       "       [0., 0., 0., ..., 0., 0., 0.],\n",
       "       [0., 0., 0., ..., 0., 0., 0.]])"
      ]
     },
     "execution_count": 5,
     "metadata": {},
     "output_type": "execute_result"
    }
   ],
   "source": [
    "data_x.pop(0)"
   ]
  },
  {
   "cell_type": "code",
   "execution_count": 6,
   "metadata": {},
   "outputs": [
    {
     "data": {
      "text/plain": [
       "<matplotlib.image.AxesImage at 0x25a59711d08>"
      ]
     },
     "execution_count": 6,
     "metadata": {},
     "output_type": "execute_result"
    },
    {
     "data": {
      "image/png": "[encoded data removed]",
      "text/plain": [
       "<Figure size 432x288 with 1 Axes>"
      ]
     },
     "metadata": {
      "needs_background": "light"
     },
     "output_type": "display_data"
    }
   ],
   "source": [
    "plt.imshow(data_x[-1])"
   ]
  },
  {
   "cell_type": "markdown",
   "metadata": {},
   "source": [
    "#### Convert images to gray scale"
   ]
  },
  {
   "cell_type": "code",
   "execution_count": 7,
   "metadata": {},
   "outputs": [],
   "source": [
    "x_data_gray = [((arr - arr.min()) * (1 / (arr.max() - arr.min())))\n",
    "               for arr in data_x]"
   ]
  },
  {
   "cell_type": "code",
   "execution_count": 8,
   "metadata": {},
   "outputs": [
    {
     "data": {
      "text/plain": [
       "(74, 74)"
      ]
     },
     "execution_count": 8,
     "metadata": {},
     "output_type": "execute_result"
    }
   ],
   "source": [
    "x_data_gray[1].shape"
   ]
  },
  {
   "cell_type": "markdown",
   "metadata": {},
   "source": [
    "#### Shuffling the dataset"
   ]
  },
  {
   "cell_type": "code",
   "execution_count": 9,
   "metadata": {},
   "outputs": [],
   "source": [
    "c = list(zip(x_data_gray, data_y))\n",
    "\n",
    "random.shuffle(c)\n",
    "\n",
    "(x_data_gray, data_y) = zip(*c)\n",
    "\n",
    "data_y = np.asarray(data_y).astype('uint8')"
   ]
  },
  {
   "cell_type": "code",
   "execution_count": 10,
   "metadata": {},
   "outputs": [],
   "source": [
    "x_data_gray = np.asarray(x_data_gray)"
   ]
  },
  {
   "cell_type": "code",
   "execution_count": 11,
   "metadata": {},
   "outputs": [],
   "source": [
    "class_names = ['Weak flame', 'FREI', 'Normal Flame']"
   ]
  },
  {
   "cell_type": "code",
   "execution_count": 12,
   "metadata": {},
   "outputs": [],
   "source": [
    "mm = int(len(x_data_gray) * 0.8)\n",
    "nn = int(len(x_data_gray) * 0.9)"
   ]
  },
  {
   "cell_type": "code",
   "execution_count": 13,
   "metadata": {},
   "outputs": [],
   "source": [
    "X_train = x_data_gray[:mm]\n",
    "X_test = x_data_gray[mm:nn]\n",
    "X_valid = x_data_gray[nn:]\n",
    "y_train = data_y[:mm]\n",
    "y_test = data_y[mm:nn]\n",
    "y_valid = data_y[nn:]"
   ]
  },
  {
   "cell_type": "code",
   "execution_count": 14,
   "metadata": {},
   "outputs": [],
   "source": [
    "numb = 42\n",
    "(numb)\n",
    "tf.random.set_seed(numb)"
   ]
  },
  {
   "cell_type": "code",
   "execution_count": 15,
   "metadata": {},
   "outputs": [],
   "source": [
    "model = keras.models.Sequential()\n",
    "model.add(keras.layers.Flatten(input_shape=[74, 74]))\n",
    "model.add(keras.layers.Dense(300, activation=\"relu\"))\n",
    "model.add(keras.layers.Dense(300, activation=\"relu\"))\n",
    "model.add(keras.layers.Dense(3, activation=\"softmax\"))"
   ]
  },
  {
   "cell_type": "code",
   "execution_count": 16,
   "metadata": {},
   "outputs": [
    {
     "name": "stdout",
     "output_type": "stream",
     "text": [
      "Model: \"sequential\"\n",
      "_________________________________________________________________\n",
      "Layer (type)                 Output Shape              Param #   \n",
      "=================================================================\n",
      "flatten (Flatten)            (None, 5476)              0         \n",
      "_________________________________________________________________\n",
      "dense (Dense)                (None, 300)               1643100   \n",
      "_________________________________________________________________\n",
      "dense_1 (Dense)              (None, 300)               90300     \n",
      "_________________________________________________________________\n",
      "dense_2 (Dense)              (None, 3)                 903       \n",
      "=================================================================\n",
      "Total params: 1,734,303\n",
      "Trainable params: 1,734,303\n",
      "Non-trainable params: 0\n",
      "_________________________________________________________________\n"
     ]
    }
   ],
   "source": [
    "model.summary()"
   ]
  },
  {
   "cell_type": "code",
   "execution_count": 17,
   "metadata": {},
   "outputs": [
    {
     "data": {
      "image/png": "[encoded data removed]",
      "text/plain": [
       "<IPython.core.display.Image object>"
      ]
     },
     "execution_count": 17,
     "metadata": {},
     "output_type": "execute_result"
    }
   ],
   "source": [
    "import pydot\n",
    "keras.utils.plot_model(model)"
   ]
  },
  {
   "cell_type": "code",
   "execution_count": 18,
   "metadata": {},
   "outputs": [],
   "source": [
    "# mcp_save = ModelCheckpoint('mdl_best.hdf5', save_best_only=True, monitor='val_accuracy', mode='max')"
   ]
  },
  {
   "cell_type": "code",
   "execution_count": 19,
   "metadata": {},
   "outputs": [],
   "source": [
    "model.compile(loss=\"sparse_categorical_crossentropy\",\n",
    "              optimizer='sgd',\n",
    "              metrics=[\"accuracy\"])"
   ]
  },
  {
   "cell_type": "code",
   "execution_count": 20,
   "metadata": {},
   "outputs": [
    {
     "name": "stdout",
     "output_type": "stream",
     "text": [
      "Train on 4728 samples, validate on 591 samples\n",
      "Epoch 1/60\n",
      "4728/4728 [==============================] - 2s 464us/sample - loss: 0.8680 - accuracy: 0.6618 - val_loss: 0.7517 - val_accuracy: 0.7716\n",
      "Epoch 2/60\n",
      "4728/4728 [==============================] - 2s 362us/sample - loss: 0.6985 - accuracy: 0.7587 - val_loss: 0.6282 - val_accuracy: 0.7750\n",
      "Epoch 3/60\n",
      "4728/4728 [==============================] - 2s 364us/sample - loss: 0.5940 - accuracy: 0.7781 - val_loss: 0.5466 - val_accuracy: 0.7919\n",
      "Epoch 4/60\n",
      "4728/4728 [==============================] - 2s 365us/sample - loss: 0.5211 - accuracy: 0.7970 - val_loss: 0.4895 - val_accuracy: 0.8088\n",
      "Epoch 5/60\n",
      "4728/4728 [==============================] - 2s 368us/sample - loss: 0.4667 - accuracy: 0.8118 - val_loss: 0.4510 - val_accuracy: 0.8173\n",
      "Epoch 6/60\n",
      "4728/4728 [==============================] - 2s 377us/sample - loss: 0.4283 - accuracy: 0.8274 - val_loss: 0.4174 - val_accuracy: 0.8240\n",
      "Epoch 7/60\n",
      "4728/4728 [==============================] - 2s 384us/sample - loss: 0.3969 - accuracy: 0.8395 - val_loss: 0.3943 - val_accuracy: 0.8376\n",
      "Epoch 8/60\n",
      "4728/4728 [==============================] - 2s 386us/sample - loss: 0.3728 - accuracy: 0.8464 - val_loss: 0.3728 - val_accuracy: 0.8393\n",
      "Epoch 9/60\n",
      "4728/4728 [==============================] - 2s 371us/sample - loss: 0.3524 - accuracy: 0.8560 - val_loss: 0.3580 - val_accuracy: 0.8494\n",
      "Epoch 10/60\n",
      "4728/4728 [==============================] - 2s 365us/sample - loss: 0.3378 - accuracy: 0.8632 - val_loss: 0.3435 - val_accuracy: 0.8596\n",
      "Epoch 11/60\n",
      "4728/4728 [==============================] - 2s 376us/sample - loss: 0.3249 - accuracy: 0.8632 - val_loss: 0.3320 - val_accuracy: 0.8629\n",
      "Epoch 12/60\n",
      "4728/4728 [==============================] - 2s 367us/sample - loss: 0.3130 - accuracy: 0.8714 - val_loss: 0.3281 - val_accuracy: 0.8646\n",
      "Epoch 13/60\n",
      "4728/4728 [==============================] - 2s 364us/sample - loss: 0.3028 - accuracy: 0.8761 - val_loss: 0.3119 - val_accuracy: 0.8697\n",
      "Epoch 14/60\n",
      "4728/4728 [==============================] - 2s 380us/sample - loss: 0.2945 - accuracy: 0.8788 - val_loss: 0.3026 - val_accuracy: 0.8731\n",
      "Epoch 15/60\n",
      "4728/4728 [==============================] - 2s 382us/sample - loss: 0.2866 - accuracy: 0.8826 - val_loss: 0.3001 - val_accuracy: 0.8680\n",
      "Epoch 16/60\n",
      "4728/4728 [==============================] - 2s 378us/sample - loss: 0.2786 - accuracy: 0.8858 - val_loss: 0.3067 - val_accuracy: 0.8832\n",
      "Epoch 17/60\n",
      "4728/4728 [==============================] - 2s 378us/sample - loss: 0.2716 - accuracy: 0.8898 - val_loss: 0.2882 - val_accuracy: 0.8748\n",
      "Epoch 18/60\n",
      "4728/4728 [==============================] - 2s 369us/sample - loss: 0.2641 - accuracy: 0.8978 - val_loss: 0.2786 - val_accuracy: 0.8765\n",
      "Epoch 19/60\n",
      "4728/4728 [==============================] - 2s 374us/sample - loss: 0.2583 - accuracy: 0.8987 - val_loss: 0.2726 - val_accuracy: 0.8832\n",
      "Epoch 20/60\n",
      "4728/4728 [==============================] - 2s 386us/sample - loss: 0.2520 - accuracy: 0.9008 - val_loss: 0.2670 - val_accuracy: 0.8799\n",
      "Epoch 21/60\n",
      "4728/4728 [==============================] - 2s 384us/sample - loss: 0.2468 - accuracy: 0.9044 - val_loss: 0.2618 - val_accuracy: 0.8951\n",
      "Epoch 22/60\n",
      "4728/4728 [==============================] - 2s 363us/sample - loss: 0.2402 - accuracy: 0.9088 - val_loss: 0.2506 - val_accuracy: 0.8934\n",
      "Epoch 23/60\n",
      "4728/4728 [==============================] - 2s 367us/sample - loss: 0.2352 - accuracy: 0.9135 - val_loss: 0.2510 - val_accuracy: 0.9086\n",
      "Epoch 24/60\n",
      "4728/4728 [==============================] - 2s 382us/sample - loss: 0.2267 - accuracy: 0.9171 - val_loss: 0.2554 - val_accuracy: 0.8849\n",
      "Epoch 25/60\n",
      "4728/4728 [==============================] - 2s 381us/sample - loss: 0.2255 - accuracy: 0.9177 - val_loss: 0.2404 - val_accuracy: 0.9086\n",
      "Epoch 26/60\n",
      "4728/4728 [==============================] - 2s 376us/sample - loss: 0.2186 - accuracy: 0.9209 - val_loss: 0.2412 - val_accuracy: 0.9154\n",
      "Epoch 27/60\n",
      "4728/4728 [==============================] - 2s 371us/sample - loss: 0.2134 - accuracy: 0.9230 - val_loss: 0.2410 - val_accuracy: 0.9052\n",
      "Epoch 28/60\n",
      "4728/4728 [==============================] - 2s 364us/sample - loss: 0.2106 - accuracy: 0.9220 - val_loss: 0.2269 - val_accuracy: 0.9069\n",
      "Epoch 29/60\n",
      "4728/4728 [==============================] - 2s 362us/sample - loss: 0.2056 - accuracy: 0.9255 - val_loss: 0.2284 - val_accuracy: 0.9002\n",
      "Epoch 30/60\n",
      "4728/4728 [==============================] - 2s 370us/sample - loss: 0.1983 - accuracy: 0.9302 - val_loss: 0.2248 - val_accuracy: 0.9103\n",
      "Epoch 31/60\n",
      "4728/4728 [==============================] - 2s 385us/sample - loss: 0.1914 - accuracy: 0.9327 - val_loss: 0.2174 - val_accuracy: 0.9137\n",
      "Epoch 32/60\n",
      "4728/4728 [==============================] - 2s 370us/sample - loss: 0.1885 - accuracy: 0.9363 - val_loss: 0.2103 - val_accuracy: 0.9154\n",
      "Epoch 33/60\n",
      "4728/4728 [==============================] - 2s 379us/sample - loss: 0.1854 - accuracy: 0.9355 - val_loss: 0.2085 - val_accuracy: 0.9120\n",
      "Epoch 34/60\n",
      "4728/4728 [==============================] - 2s 370us/sample - loss: 0.1811 - accuracy: 0.9361 - val_loss: 0.2073 - val_accuracy: 0.9171\n",
      "Epoch 35/60\n",
      "4728/4728 [==============================] - 2s 371us/sample - loss: 0.1758 - accuracy: 0.9425 - val_loss: 0.1990 - val_accuracy: 0.9137\n",
      "Epoch 36/60\n",
      "4728/4728 [==============================] - 2s 369us/sample - loss: 0.1723 - accuracy: 0.9427 - val_loss: 0.2006 - val_accuracy: 0.9154\n",
      "Epoch 37/60\n",
      "4728/4728 [==============================] - 2s 374us/sample - loss: 0.1681 - accuracy: 0.9431 - val_loss: 0.1919 - val_accuracy: 0.9154\n",
      "Epoch 38/60\n",
      "4728/4728 [==============================] - 2s 369us/sample - loss: 0.1628 - accuracy: 0.9450 - val_loss: 0.1934 - val_accuracy: 0.9205\n",
      "Epoch 39/60\n",
      "4728/4728 [==============================] - 2s 370us/sample - loss: 0.1593 - accuracy: 0.9490 - val_loss: 0.1902 - val_accuracy: 0.9222\n",
      "Epoch 40/60\n",
      "4728/4728 [==============================] - 2s 370us/sample - loss: 0.1548 - accuracy: 0.9533 - val_loss: 0.2334 - val_accuracy: 0.9036\n",
      "Epoch 41/60\n",
      "4728/4728 [==============================] - 2s 408us/sample - loss: 0.1489 - accuracy: 0.9533 - val_loss: 0.1830 - val_accuracy: 0.9255\n",
      "Epoch 42/60\n",
      "4728/4728 [==============================] - 2s 439us/sample - loss: 0.1476 - accuracy: 0.9545 - val_loss: 0.1845 - val_accuracy: 0.9188\n",
      "Epoch 43/60\n",
      "4728/4728 [==============================] - 2s 428us/sample - loss: 0.1441 - accuracy: 0.9549 - val_loss: 0.1786 - val_accuracy: 0.9239\n",
      "Epoch 44/60\n",
      "4728/4728 [==============================] - 2s 445us/sample - loss: 0.1390 - accuracy: 0.9592 - val_loss: 0.1900 - val_accuracy: 0.9239\n",
      "Epoch 45/60\n",
      "4728/4728 [==============================] - 2s 378us/sample - loss: 0.1375 - accuracy: 0.9588 - val_loss: 0.2208 - val_accuracy: 0.9120\n",
      "Epoch 46/60\n",
      "4728/4728 [==============================] - 2s 375us/sample - loss: 0.1336 - accuracy: 0.9613 - val_loss: 0.1680 - val_accuracy: 0.9289\n",
      "Epoch 47/60\n",
      "4728/4728 [==============================] - 2s 378us/sample - loss: 0.1309 - accuracy: 0.9615 - val_loss: 0.1709 - val_accuracy: 0.9222\n",
      "Epoch 48/60\n",
      "4728/4728 [==============================] - 2s 389us/sample - loss: 0.1274 - accuracy: 0.9630 - val_loss: 0.1675 - val_accuracy: 0.9391\n",
      "Epoch 49/60\n",
      "4728/4728 [==============================] - 2s 379us/sample - loss: 0.1245 - accuracy: 0.9643 - val_loss: 0.1679 - val_accuracy: 0.9391\n",
      "Epoch 50/60\n",
      "4728/4728 [==============================] - 2s 393us/sample - loss: 0.1218 - accuracy: 0.9645 - val_loss: 0.1609 - val_accuracy: 0.9374\n",
      "Epoch 51/60\n",
      "4728/4728 [==============================] - 2s 389us/sample - loss: 0.1195 - accuracy: 0.9643 - val_loss: 0.1948 - val_accuracy: 0.9239\n",
      "Epoch 52/60\n",
      "4728/4728 [==============================] - 2s 369us/sample - loss: 0.1152 - accuracy: 0.9687 - val_loss: 0.1578 - val_accuracy: 0.9391\n",
      "Epoch 53/60\n",
      "4728/4728 [==============================] - 2s 368us/sample - loss: 0.1116 - accuracy: 0.9683 - val_loss: 0.1609 - val_accuracy: 0.9408\n",
      "Epoch 54/60\n",
      "4728/4728 [==============================] - 2s 375us/sample - loss: 0.1104 - accuracy: 0.9693 - val_loss: 0.1537 - val_accuracy: 0.9442\n",
      "Epoch 55/60\n",
      "4728/4728 [==============================] - 2s 402us/sample - loss: 0.1079 - accuracy: 0.9719 - val_loss: 0.1604 - val_accuracy: 0.9357\n"
     ]
    },
    {
     "name": "stdout",
     "output_type": "stream",
     "text": [
      "Epoch 56/60\n",
      "4728/4728 [==============================] - 2s 354us/sample - loss: 0.1062 - accuracy: 0.9702 - val_loss: 0.1500 - val_accuracy: 0.9374\n",
      "Epoch 57/60\n",
      "4728/4728 [==============================] - 2s 352us/sample - loss: 0.1019 - accuracy: 0.9738 - val_loss: 0.1704 - val_accuracy: 0.9340\n",
      "Epoch 58/60\n",
      "4728/4728 [==============================] - 2s 331us/sample - loss: 0.1002 - accuracy: 0.9750 - val_loss: 0.1482 - val_accuracy: 0.9391\n",
      "Epoch 59/60\n",
      "4728/4728 [==============================] - 2s 337us/sample - loss: 0.0968 - accuracy: 0.9750 - val_loss: 0.1808 - val_accuracy: 0.9357\n",
      "Epoch 60/60\n",
      "4728/4728 [==============================] - 2s 352us/sample - loss: 0.0950 - accuracy: 0.9765 - val_loss: 0.1491 - val_accuracy: 0.9340\n"
     ]
    }
   ],
   "source": [
    "model_history = model.fit(X_train,\n",
    "                          y_train,\n",
    "                          epochs=60,\n",
    "                          validation_data=(X_valid, y_valid),\n",
    "                         use_multiprocessing = True)\n",
    "#                          callbacks=[mcp_save])"
   ]
  },
  {
   "cell_type": "code",
   "execution_count": 21,
   "metadata": {},
   "outputs": [
    {
     "data": {
      "image/png": "[encoded data removed]",
      "text/plain": [
       "<Figure size 576x360 with 1 Axes>"
      ]
     },
     "metadata": {
      "needs_background": "light"
     },
     "output_type": "display_data"
    }
   ],
   "source": [
    "df = pd.DataFrame(model_history.history)\n",
    "df.plot(figsize=(8, 5))\n",
    "plt.grid(True)\n",
    "plt.gca().set_ylim(0, 1.1)\n",
    "plt.xlabel('Epoch')\n",
    "plt.show()"
   ]
  },
  {
   "cell_type": "code",
   "execution_count": 22,
   "metadata": {},
   "outputs": [],
   "source": [
    "y_pred = model.predict_classes(X_test)"
   ]
  },
  {
   "cell_type": "code",
   "execution_count": 23,
   "metadata": {},
   "outputs": [
    {
     "data": {
      "text/plain": [
       "array([1, 0, 2, 0, 2, 2, 2, 2, 0, 1, 0, 1, 0, 1, 1, 1, 2, 1, 1, 1, 2, 1,\n",
       "       1, 2, 1, 0, 1, 1, 1, 0, 2, 0, 0, 0, 2, 2, 2, 0, 0, 2, 2, 2, 2, 0,\n",
       "       2, 2, 1, 1, 0, 1, 1, 0, 1, 2, 1, 0, 2, 1, 1, 2, 2, 1, 2, 1, 0, 2,\n",
       "       1, 1, 0, 0, 2, 0, 0, 1, 1, 2, 2, 1, 2, 0, 1, 0, 0, 1, 1, 0, 1, 1,\n",
       "       0, 2, 0, 0, 1, 2, 0, 2, 1, 0, 1, 0, 0, 1, 1, 1, 1, 2, 2, 0, 2, 2,\n",
       "       2, 0, 0, 2, 2, 2, 1, 1, 0, 2, 0, 0, 0, 0, 2, 2, 0, 0, 0, 1, 0, 0,\n",
       "       1, 0, 0, 1, 1, 1, 2, 0, 0, 2, 0, 2, 0, 2, 1, 2, 1, 1, 2, 1, 2, 2,\n",
       "       2, 0, 0, 1, 0, 2, 0, 2, 0, 0, 2, 0, 2, 0, 0, 0, 2, 1, 1, 2, 2, 2,\n",
       "       2, 0, 0, 1, 1, 2, 2, 2, 0, 2, 2, 1, 2, 1, 1, 0, 0, 1, 0, 1, 2, 0,\n",
       "       0, 1, 0, 1, 0, 0, 1, 2, 2, 2, 2, 1, 0, 2, 1, 2, 2, 1, 0, 0, 2, 0,\n",
       "       0, 2, 0, 2, 2, 2, 0, 2, 1, 0, 0, 0, 0, 0, 0, 1, 1, 1, 2, 0, 1, 0,\n",
       "       1, 0, 1, 2, 2, 1, 1, 0, 2, 0, 1, 1, 1, 2, 1, 0, 1, 2, 1, 0, 2, 0,\n",
       "       0, 0, 2, 0, 2, 1, 2, 2, 2, 2, 1, 1, 1, 2, 1, 0, 1, 2, 2, 2, 1, 0,\n",
       "       1, 0, 1, 2, 2, 1, 2, 0, 0, 1, 1, 1, 1, 2, 2, 0, 2, 1, 0, 2, 2, 2,\n",
       "       1, 0, 2, 1, 2, 0, 1, 0, 0, 2, 2, 2, 1, 2, 1, 0, 1, 1, 0, 0, 0, 2,\n",
       "       2, 1, 0, 0, 1, 2, 2, 2, 0, 1, 1, 1, 2, 2, 2, 2, 1, 0, 2, 2, 0, 1,\n",
       "       1, 2, 1, 2, 2, 0, 2, 0, 2, 0, 1, 1, 1, 1, 0, 2, 2, 2, 1, 1, 1, 2,\n",
       "       0, 2, 0, 1, 1, 0, 0, 0, 2, 2, 1, 2, 0, 0, 1, 2, 2, 2, 2, 0, 0, 1,\n",
       "       0, 2, 2, 1, 2, 0, 1, 2, 1, 0, 2, 2, 0, 0, 2, 1, 1, 0, 2, 1, 2, 0,\n",
       "       1, 0, 2, 0, 1, 2, 0, 0, 2, 0, 1, 1, 0, 1, 1, 2, 2, 2, 1, 2, 2, 1,\n",
       "       2, 2, 2, 2, 0, 1, 2, 2, 2, 2, 1, 2, 1, 1, 2, 2, 1, 0, 2, 2, 1, 0,\n",
       "       2, 0, 0, 0, 0, 2, 1, 0, 0, 2, 2, 1, 2, 0, 1, 2, 0, 0, 0, 2, 1, 2,\n",
       "       1, 1, 2, 1, 1, 0, 2, 1, 0, 2, 0, 1, 0, 0, 1, 1, 1, 2, 2, 2, 2, 2,\n",
       "       1, 0, 2, 2, 2, 1, 1, 0, 1, 2, 2, 0, 2, 0, 0, 0, 2, 0, 0, 1, 2, 0,\n",
       "       0, 0, 0, 1, 2, 2, 2, 1, 2, 2, 1, 1, 2, 2, 2, 0, 2, 0, 2, 2, 0, 2,\n",
       "       0, 2, 2, 2, 0, 0, 1, 2, 2, 2, 2, 2, 2, 1, 2, 1, 2, 0, 2, 2, 0, 0,\n",
       "       1, 0, 1, 2, 0, 0, 1, 2, 2, 0, 0, 0, 1, 1, 2, 1, 0, 0, 0],\n",
       "      dtype=uint8)"
      ]
     },
     "execution_count": 23,
     "metadata": {},
     "output_type": "execute_result"
    }
   ],
   "source": [
    "y_test"
   ]
  },
  {
   "cell_type": "code",
   "execution_count": 24,
   "metadata": {},
   "outputs": [
    {
     "data": {
      "text/plain": [
       "35"
      ]
     },
     "execution_count": 24,
     "metadata": {},
     "output_type": "execute_result"
    }
   ],
   "source": [
    "sum([1 for i in range(len(y_test)) if abs(y_pred - y_test)[i] != 0])"
   ]
  },
  {
   "cell_type": "code",
   "execution_count": 25,
   "metadata": {},
   "outputs": [],
   "source": [
    "perc = (len(y_test) -sum([1 for i in range(len(y_test)) if abs(y_pred - y_test)[i] != 0]))/len(y_test)*100"
   ]
  },
  {
   "cell_type": "code",
   "execution_count": 26,
   "metadata": {},
   "outputs": [
    {
     "name": "stdout",
     "output_type": "stream",
     "text": [
      "94.078% is the accuracy for the test dataset\n"
     ]
    }
   ],
   "source": [
    "print('{}% is the accuracy for the test dataset'.format(round(perc, 3)))"
   ]
  },
  {
   "cell_type": "code",
   "execution_count": 27,
   "metadata": {},
   "outputs": [],
   "source": [
    "train_predict = model.predict_classes(X_train)\n",
    "val_predict = model.predict_classes(X_valid)\n",
    "test_predict = model.predict_classes(X_test)"
   ]
  },
  {
   "cell_type": "code",
   "execution_count": 28,
   "metadata": {},
   "outputs": [],
   "source": [
    "mpl.rcParams[\"font.family\"] ='serif'\n",
    "mpl.rcParams[\"font.size\"] =7"
   ]
  },
  {
   "cell_type": "code",
   "execution_count": 29,
   "metadata": {},
   "outputs": [],
   "source": [
    "y_train_calss = y_train\n",
    "y_valid_calss = y_valid\n",
    "y_test_calss = y_test"
   ]
  },
  {
   "cell_type": "code",
   "execution_count": 59,
   "metadata": {},
   "outputs": [
    {
     "data": {
      "text/plain": [
       "numpy.longdouble"
      ]
     },
     "execution_count": 59,
     "metadata": {},
     "output_type": "execute_result"
    }
   ],
   "source": [
    "np.longdouble"
   ]
  },
  {
   "cell_type": "code",
   "execution_count": 61,
   "metadata": {},
   "outputs": [],
   "source": [
    "train_conf_matrix = tf.math.confusion_matrix(labels=y_train_calss, predictions=train_predict).numpy()\n",
    "val_conf_matrix = tf.math.confusion_matrix(labels=y_valid_calss, predictions=val_predict).numpy()\n",
    "test_conf_matrix = tf.math.confusion_matrix(labels=y_test_calss, predictions=test_predict).numpy()"
   ]
  },
  {
   "cell_type": "code",
   "execution_count": 31,
   "metadata": {},
   "outputs": [],
   "source": [
    "labels = ['Weak flame', 'FREI', 'Normal flame']\n",
    "import sklearn.metrics as metrics\n",
    "import seaborn as sns"
   ]
  },
  {
   "cell_type": "code",
   "execution_count": 64,
   "metadata": {},
   "outputs": [
    {
     "data": {
      "text/plain": [
       "array([[9.70742686e-01, 1.80045011e-02, 1.12528132e-02],\n",
       "       [6.18982118e-03, 9.69738652e-01, 2.40715268e-02],\n",
       "       [5.15198351e-04, 3.60638846e-03, 9.95878413e-01]])"
      ]
     },
     "execution_count": 64,
     "metadata": {},
     "output_type": "execute_result"
    }
   ],
   "source": [
    "train_conf_matrix"
   ]
  },
  {
   "cell_type": "code",
   "execution_count": 63,
   "metadata": {},
   "outputs": [],
   "source": [
    "\n",
    "train_conf_matrix = train_conf_matrix.astype('float64') /train_conf_matrix.sum(axis=1)[:, np.newaxis]\n",
    "val_conf_matrix  =  val_conf_matrix.astype('float64') /  val_conf_matrix.sum(axis=1)[:, np.newaxis]\n",
    "test_conf_matrix =  test_conf_matrix.astype('float64') / test_conf_matrix.sum(axis=1)[:, np.newaxis]"
   ]
  },
  {
   "cell_type": "code",
   "execution_count": null,
   "metadata": {},
   "outputs": [],
   "source": [
    "fig, ax = plt.subplots(1,3,figsize = (8,3), dpi=200)\n",
    "sns.heatmap(train_conf_matrix, annot = True, cmap=plt.cm.Greens,ax=ax[0],cbar=False)\n",
    "sns.heatmap(val_conf_matrix, annot = True, cmap=plt.cm.Greens,ax=ax[1],cbar=False)\n",
    "sns.heatmap(test_conf_matrix, annot = True, cmap=plt.cm.Greens,ax=ax[2],cbar=False)\n",
    "ax[0].set_xticklabels(labels,rotation = 45)\n",
    "ax[1].set_xticklabels(labels,rotation = 45)\n",
    "ax[2].set_xticklabels(labels,rotation = 45)\n",
    "ax[0].set_yticklabels(labels,rotation = 45)\n",
    "ax[0].set_ylabel('True Label')\n",
    "ax[1].set_xlabel('Predicted label')\n",
    "ax[1].set_yticks([])\n",
    "ax[2].set_yticks([])\n",
    "ax[1].set_yticklabels([])\n",
    "ax[2].set_yticklabels([])\n",
    "ax[0].set_title('Training')\n",
    "ax[1].set_title('Validation')\n",
    "ax[2].set_title('Test')\n",
    "plt.show()"
   ]
  },
  {
   "cell_type": "code",
   "execution_count": 34,
   "metadata": {},
   "outputs": [
    {
     "data": {
      "text/plain": [
       "array([[9.70742686e-01, 1.80045011e-02, 1.12528132e-02],\n",
       "       [6.18982118e-03, 9.69738652e-01, 2.40715268e-02],\n",
       "       [5.15198351e-04, 3.60638846e-03, 9.95878413e-01]])"
      ]
     },
     "execution_count": 34,
     "metadata": {},
     "output_type": "execute_result"
    }
   ],
   "source": [
    "train_conf_matrix"
   ]
  },
  {
   "cell_type": "code",
   "execution_count": 35,
   "metadata": {},
   "outputs": [
    {
     "data": {
      "text/plain": [
       "(4728,)"
      ]
     },
     "execution_count": 35,
     "metadata": {},
     "output_type": "execute_result"
    }
   ],
   "source": [
    "train_predict.shape"
   ]
  },
  {
   "cell_type": "code",
   "execution_count": 36,
   "metadata": {},
   "outputs": [
    {
     "data": {
      "text/plain": [
       "(4728,)"
      ]
     },
     "execution_count": 36,
     "metadata": {},
     "output_type": "execute_result"
    }
   ],
   "source": [
    "y_train_calss.shape"
   ]
  },
  {
   "cell_type": "code",
   "execution_count": 42,
   "metadata": {},
   "outputs": [],
   "source": [
    "from sklearn.metrics import precision_recall_fscore_support as score\n",
    "from sklearn.metrics import classification_report"
   ]
  },
  {
   "cell_type": "code",
   "execution_count": 65,
   "metadata": {},
   "outputs": [],
   "source": [
    "precision, recall, fscore, support = score(y_train, train_predict)"
   ]
  },
  {
   "cell_type": "code",
   "execution_count": 66,
   "metadata": {},
   "outputs": [
    {
     "name": "stdout",
     "output_type": "stream",
     "text": [
      "precision: [0.99233129 0.97848716 0.97478568]\n",
      "recall: [0.97074269 0.96973865 0.99587841]\n",
      "fscore: [0.98141828 0.97409326 0.98521916]\n",
      "support: [1333 1454 1941]\n"
     ]
    }
   ],
   "source": [
    "print('precision: {}'.format(precision))\n",
    "print('recall: {}'.format(recall))\n",
    "print('fscore: {}'.format(fscore))\n",
    "print('support: {}'.format(support))"
   ]
  },
  {
   "cell_type": "code",
   "execution_count": 40,
   "metadata": {},
   "outputs": [],
   "source": [
    "y_true = [2, 0, 2, 2, 0, 1]\n",
    "y_pred = [0, 0, 2, 2, 0, 2]"
   ]
  },
  {
   "cell_type": "code",
   "execution_count": 68,
   "metadata": {},
   "outputs": [
    {
     "name": "stdout",
     "output_type": "stream",
     "text": [
      "              precision    recall  f1-score   support\n",
      "\n",
      "  Weak flame     0.9516    0.9316    0.9415       190\n",
      "        FREI     0.9056    0.9157    0.9106       178\n",
      "Normal flame     0.9600    0.9686    0.9643       223\n",
      "\n",
      "    accuracy                         0.9408       591\n",
      "   macro avg     0.9391    0.9386    0.9388       591\n",
      "weighted avg     0.9409    0.9408    0.9408       591\n",
      "\n"
     ]
    }
   ],
   "source": [
    "target_names = ['class 0', 'class 1', 'class 2']\n",
    "print(classification_report(y_test_calss, test_predict, target_names=labels, digits=4))"
   ]
  },
  {
   "cell_type": "code",
   "execution_count": null,
   "metadata": {},
   "outputs": [],
   "source": []
  }
 ],
 "metadata": {
  "kernelspec": {
   "display_name": "Python 3",
   "language": "python",
   "name": "python3"
  },
  "language_info": {
   "codemirror_mode": {
    "name": "ipython",
    "version": 3
   },
   "file_extension": ".py",
   "mimetype": "text/x-python",
   "name": "python",
   "nbconvert_exporter": "python",
   "pygments_lexer": "ipython3",
   "version": "3.7.9"
  },
  "varInspector": {
   "cols": {
    "lenName": 16,
    "lenType": 16,
    "lenVar": 40
   },
   "kernels_config": {
    "python": {
     "delete_cmd_postfix": "",
     "delete_cmd_prefix": "del ",
     "library": "var_list.py",
     "varRefreshCmd": "print(var_dic_list())"
    },
    "r": {
     "delete_cmd_postfix": ") ",
     "delete_cmd_prefix": "rm(",
     "library": "var_list.r",
     "varRefreshCmd": "cat(var_dic_list()) "
    }
   },
   "types_to_exclude": [
    "module",
    "function",
    "builtin_function_or_method",
    "instance",
    "_Feature"
   ],
   "window_display": false
  }
 },
 "nbformat": 4,
 "nbformat_minor": 4
}
